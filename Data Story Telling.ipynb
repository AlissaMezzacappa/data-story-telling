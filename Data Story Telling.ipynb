{
 "cells": [
  {
   "cell_type": "code",
   "execution_count": 44,
   "metadata": {
    "collapsed": false
   },
   "outputs": [
    {
     "name": "stdout",
     "output_type": "stream",
     "text": [
      "Data Story: Evaluation of Drug Consumption Risk\n"
     ]
    }
   ],
   "source": [
    "print('Data Story: Evaluation of Drug Consumption Risk')\n",
    "import pandas as pd\n",
    "import urllib\n",
    "u=urllib.urlopen('http://archive.ics.uci.edu/ml/datasets/Drug+consumption+%28quantified%29')\n",
    "text=u.read()\n",
    "import re\n",
    "matches=re.findall(r\"\\d+\\.\\s\\w+\", text)\n",
    "del(matches[0:3])\n",
    "del(matches[12])\n",
    "for i in range(0, len(matches)):\n",
    "    matches[i]=re.sub(r\"\\d+\\.\\s\",\"\",matches[i])\n",
    "url = \"http://archive.ics.uci.edu/ml/machine-learning-databases/00373/drug_consumption.data\"\n",
    "data = pd.read_csv(url,names=matches) #import data"
   ]
  },
  {
   "cell_type": "code",
   "execution_count": 45,
   "metadata": {
    "collapsed": false
   },
   "outputs": [],
   "source": [
    "#Create Binary variable seperating use by those who use at a month frequecy or more\n",
    "data=data.replace(['CL0','CL1','CL2','CL3'],0)\n",
    "data=data.replace(['CL4','CL5','CL6'],1)\n",
    "#coorelate attributes with drug use\n",
    "coormat=data.corr()\n",
    "#make scatterplot matrix\n",
    "#for each drug find the top 3 correlated attributes make scatterplots"
   ]
  },
  {
   "cell_type": "code",
   "execution_count": 46,
   "metadata": {
    "collapsed": false
   },
   "outputs": [
    {
     "name": "stdout",
     "output_type": "stream",
     "text": [
      "Characteristics of Population Surveyed\n",
      "Data is more representative of young adults than older adults\n"
     ]
    },
    {
     "ename": "KeyError",
     "evalue": "'Age'",
     "output_type": "error",
     "traceback": [
      "\u001b[0;31m---------------------------------------------------------------------------\u001b[0m",
      "\u001b[0;31mKeyError\u001b[0m                                  Traceback (most recent call last)",
      "\u001b[0;32m<ipython-input-46-585b40267757>\u001b[0m in \u001b[0;36m<module>\u001b[0;34m()\u001b[0m\n\u001b[1;32m     15\u001b[0m \u001b[0mfig\u001b[0m\u001b[1;33m=\u001b[0m\u001b[0mpy\u001b[0m\u001b[1;33m.\u001b[0m\u001b[0mfigure\u001b[0m\u001b[1;33m(\u001b[0m\u001b[1;36m2\u001b[0m\u001b[1;33m)\u001b[0m\u001b[1;33m\u001b[0m\u001b[0m\n\u001b[1;32m     16\u001b[0m \u001b[0max\u001b[0m\u001b[1;33m=\u001b[0m\u001b[0mfig\u001b[0m\u001b[1;33m.\u001b[0m\u001b[0madd_subplot\u001b[0m\u001b[1;33m(\u001b[0m\u001b[1;36m1\u001b[0m\u001b[1;33m,\u001b[0m\u001b[1;36m1\u001b[0m\u001b[1;33m,\u001b[0m\u001b[1;36m1\u001b[0m\u001b[1;33m)\u001b[0m\u001b[1;33m\u001b[0m\u001b[0m\n\u001b[0;32m---> 17\u001b[0;31m \u001b[0max\u001b[0m\u001b[1;33m.\u001b[0m\u001b[0mscatter\u001b[0m\u001b[1;33m(\u001b[0m\u001b[0mc\u001b[0m\u001b[1;33m[\u001b[0m\u001b[1;34m'Age'\u001b[0m\u001b[1;33m]\u001b[0m\u001b[1;33m,\u001b[0m\u001b[0mc\u001b[0m\u001b[1;33m[\u001b[0m\u001b[1;34m'Education'\u001b[0m\u001b[1;33m]\u001b[0m\u001b[1;33m,\u001b[0m\u001b[0mc\u001b[0m\u001b[1;33m.\u001b[0m\u001b[0miloc\u001b[0m\u001b[1;33m[\u001b[0m\u001b[1;33m:\u001b[0m\u001b[1;33m,\u001b[0m\u001b[1;36m2\u001b[0m\u001b[1;33m]\u001b[0m\u001b[1;33m)\u001b[0m\u001b[1;33m\u001b[0m\u001b[0m\n\u001b[0m",
      "\u001b[0;32mC:\\ProgramData\\Anaconda2\\lib\\site-packages\\pandas\\core\\series.py\u001b[0m in \u001b[0;36m__getitem__\u001b[0;34m(self, key)\u001b[0m\n\u001b[1;32m    601\u001b[0m         \u001b[0mkey\u001b[0m \u001b[1;33m=\u001b[0m \u001b[0mcom\u001b[0m\u001b[1;33m.\u001b[0m\u001b[0m_apply_if_callable\u001b[0m\u001b[1;33m(\u001b[0m\u001b[0mkey\u001b[0m\u001b[1;33m,\u001b[0m \u001b[0mself\u001b[0m\u001b[1;33m)\u001b[0m\u001b[1;33m\u001b[0m\u001b[0m\n\u001b[1;32m    602\u001b[0m         \u001b[1;32mtry\u001b[0m\u001b[1;33m:\u001b[0m\u001b[1;33m\u001b[0m\u001b[0m\n\u001b[0;32m--> 603\u001b[0;31m             \u001b[0mresult\u001b[0m \u001b[1;33m=\u001b[0m \u001b[0mself\u001b[0m\u001b[1;33m.\u001b[0m\u001b[0mindex\u001b[0m\u001b[1;33m.\u001b[0m\u001b[0mget_value\u001b[0m\u001b[1;33m(\u001b[0m\u001b[0mself\u001b[0m\u001b[1;33m,\u001b[0m \u001b[0mkey\u001b[0m\u001b[1;33m)\u001b[0m\u001b[1;33m\u001b[0m\u001b[0m\n\u001b[0m\u001b[1;32m    604\u001b[0m \u001b[1;33m\u001b[0m\u001b[0m\n\u001b[1;32m    605\u001b[0m             \u001b[1;32mif\u001b[0m \u001b[1;32mnot\u001b[0m \u001b[0mis_scalar\u001b[0m\u001b[1;33m(\u001b[0m\u001b[0mresult\u001b[0m\u001b[1;33m)\u001b[0m\u001b[1;33m:\u001b[0m\u001b[1;33m\u001b[0m\u001b[0m\n",
      "\u001b[0;32mC:\\ProgramData\\Anaconda2\\lib\\site-packages\\pandas\\indexes\\multi.py\u001b[0m in \u001b[0;36mget_value\u001b[0;34m(self, series, key)\u001b[0m\n\u001b[1;32m    713\u001b[0m                     \u001b[1;32mraise\u001b[0m \u001b[0mInvalidIndexError\u001b[0m\u001b[1;33m(\u001b[0m\u001b[0mkey\u001b[0m\u001b[1;33m)\u001b[0m\u001b[1;33m\u001b[0m\u001b[0m\n\u001b[1;32m    714\u001b[0m                 \u001b[1;32melse\u001b[0m\u001b[1;33m:\u001b[0m\u001b[1;33m\u001b[0m\u001b[0m\n\u001b[0;32m--> 715\u001b[0;31m                     \u001b[1;32mraise\u001b[0m \u001b[0me1\u001b[0m\u001b[1;33m\u001b[0m\u001b[0m\n\u001b[0m\u001b[1;32m    716\u001b[0m             \u001b[1;32mexcept\u001b[0m \u001b[0mException\u001b[0m\u001b[1;33m:\u001b[0m  \u001b[1;31m# pragma: no cover\u001b[0m\u001b[1;33m\u001b[0m\u001b[0m\n\u001b[1;32m    717\u001b[0m                 \u001b[1;32mraise\u001b[0m \u001b[0me1\u001b[0m\u001b[1;33m\u001b[0m\u001b[0m\n",
      "\u001b[0;31mKeyError\u001b[0m: 'Age'"
     ]
    },
    {
     "data": {
      "image/png": "[encoded data removed]",
      "text/plain": [
       "<matplotlib.figure.Figure at 0x7f97240>"
      ]
     },
     "metadata": {},
     "output_type": "display_data"
    },
    {
     "data": {
      "image/png": "[encoded data removed]",
      "text/plain": [
       "<matplotlib.figure.Figure at 0xb7a5400>"
      ]
     },
     "metadata": {},
     "output_type": "display_data"
    }
   ],
   "source": [
    "#Count something interesting\n",
    "print('Characteristics of Population Surveyed')\n",
    "import matplotlib.pyplot as py\n",
    "%matplotlib inline\n",
    "#Age\n",
    "age=['','18-24','25-34','35-44','45-54','55-64','65+']\n",
    "ax=py.subplot(111)\n",
    "py.hist(data.Age*.84+.17,bins=6,histtype='bar', align='mid',width=0.3)\n",
    "py.ylabel('Individuals')\n",
    "#ax.set_xticks(map(lambda x: x, range(1,len(data.Age)+1)))\n",
    "ax.set_xticklabels(age,rotation=45)\n",
    "py.title('Population Age Distribution')\n",
    "print('Data is more representative of young adults than older adults')\n",
    "c=data[['Age','Education']].groupby(['Age','Education']).size()\n",
    "fig=py.figure(2)\n",
    "ax=fig.add_subplot(1,1,1)\n",
    "ax.scatter(c['Age'],c['Education'],c.iloc[:,2]) #How do I make a bubble plot?"
   ]
  },
  {
   "cell_type": "code",
   "execution_count": 31,
   "metadata": {
    "collapsed": false
   },
   "outputs": [
    {
     "name": "stdout",
     "output_type": "stream",
     "text": [
      "Age         -0.062820\n",
      "Nscore      -0.032237\n",
      "Impulsive    0.011771\n",
      "Name: Alcohol, dtype: float64\n",
      "Country      0.078652\n",
      "Education    0.127310\n",
      "Escore       0.134599\n",
      "Name: Alcohol, dtype: float64\n",
      "Country   -0.297362\n",
      "Cscore    -0.180751\n",
      "Age       -0.175875\n",
      "Name: Amphet, dtype: float64\n",
      "Oscore       0.115426\n",
      "SS           0.206502\n",
      "Impulsive    0.210708\n",
      "Name: Amphet, dtype: float64\n",
      "Gender   -0.083569\n",
      "Age      -0.075914\n",
      "Ascore   -0.064323\n",
      "Name: Amyl, dtype: float64\n",
      "Ethnicity    0.042747\n",
      "Impulsive    0.061961\n",
      "SS           0.111118\n",
      "Name: Amyl, dtype: float64\n",
      "Country   -0.299118\n",
      "Cscore    -0.147825\n",
      "Ascore    -0.136980\n",
      "Name: Benzos, dtype: float64\n",
      "Impulsive    0.175142\n",
      "SS           0.188252\n",
      "Nscore       0.223672\n",
      "Name: Benzos, dtype: float64\n",
      "Age       -0.023063\n",
      "Cscore    -0.021448\n",
      "Country   -0.012992\n",
      "Name: Caff, dtype: float64\n",
      "Escore       0.061392\n",
      "SS           0.077285\n",
      "Impulsive    0.078646\n",
      "Name: Caff, dtype: float64\n",
      "Country   -0.514411\n",
      "Age       -0.410244\n",
      "Gender    -0.279195\n",
      "Name: Cannabis, dtype: float64\n",
      "Impulsive    0.271503\n",
      "Oscore       0.367332\n",
      "SS           0.402344\n",
      "Name: Cannabis, dtype: float64\n",
      "Cscore      -0.022787\n",
      "Education   -0.020981\n",
      "Impulsive   -0.019754\n",
      "Name: Choc, dtype: float64\n",
      "Oscore     0.023045\n",
      "Gender     0.040304\n",
      "Country    0.066275\n",
      "Name: Choc, dtype: float64\n",
      "Age       -0.172080\n",
      "Country   -0.139727\n",
      "Ascore    -0.126319\n",
      "Name: Coke, dtype: float64\n",
      "Nscore       0.086120\n",
      "Impulsive    0.139565\n",
      "SS           0.203076\n",
      "Name: Coke, dtype: float64\n",
      "Gender      -0.082790\n",
      "Ascore      -0.065392\n",
      "Education   -0.054131\n",
      "Name: Crack, dtype: float64\n",
      "Impulsive    0.058619\n",
      "SS           0.069754\n",
      "Nscore       0.078141\n",
      "Name: Crack, dtype: float64\n",
      "Age       -0.252397\n",
      "Country   -0.195327\n",
      "Gender    -0.136668\n",
      "Name: Ecstasy, dtype: float64\n",
      "Impulsive    0.129952\n",
      "Oscore       0.170349\n",
      "SS           0.210404\n",
      "Name: Ecstasy, dtype: float64\n",
      "Country   -0.165622\n",
      "Ascore    -0.127813\n",
      "Age       -0.119904\n",
      "Name: Heroin, dtype: float64\n",
      "Nscore       0.109822\n",
      "Impulsive    0.120090\n",
      "SS           0.127308\n",
      "Name: Heroin, dtype: float64\n",
      "Age      -0.154227\n",
      "Gender   -0.108434\n",
      "Cscore   -0.098793\n",
      "Name: Ketamine, dtype: float64\n",
      "Impulsive    0.073863\n",
      "SS           0.100899\n",
      "Oscore       0.102641\n",
      "Name: Ketamine, dtype: float64\n",
      "Country   -0.262141\n",
      "Age       -0.230990\n",
      "Gender    -0.201561\n",
      "Name: Legalh, dtype: float64\n",
      "Impulsive    0.163852\n",
      "Oscore       0.168757\n",
      "SS           0.228799\n",
      "Name: Legalh, dtype: float64\n",
      "Country   -0.291682\n",
      "Age       -0.253510\n",
      "Gender    -0.149596\n",
      "Name: LSD, dtype: float64\n",
      "Impulsive    0.102210\n",
      "SS           0.198421\n",
      "Oscore       0.231119\n",
      "Name: LSD, dtype: float64\n",
      "Country   -0.291274\n",
      "Cscore    -0.137547\n",
      "Age       -0.128757\n",
      "Name: Meth, dtype: float64\n",
      "Impulsive    0.122566\n",
      "Nscore       0.140366\n",
      "SS           0.152995\n",
      "Name: Meth, dtype: float64\n",
      "Country   -0.286114\n",
      "Age       -0.212850\n",
      "Gender    -0.146824\n",
      "Name: Mushrooms, dtype: float64\n",
      "Impulsive    0.110458\n",
      "SS           0.187797\n",
      "Oscore       0.210594\n",
      "Name: Mushrooms, dtype: float64\n",
      "Age       -0.234236\n",
      "Country   -0.233448\n",
      "Cscore    -0.214976\n",
      "Name: Nicotine, dtype: float64\n",
      "Oscore       0.175882\n",
      "Impulsive    0.220208\n",
      "SS           0.265344\n",
      "Name: Nicotine, dtype: float64\n",
      "Impulsive   -0.033490\n",
      "Country     -0.030458\n",
      "Age         -0.025884\n",
      "Name: Semer, dtype: float64\n",
      "Cscore       0.041864\n",
      "Ascore       0.047131\n",
      "Ethnicity    0.058779\n",
      "Name: Semer, dtype: float64\n",
      "Age       -0.110004\n",
      "Country   -0.094687\n",
      "Gender    -0.055735\n",
      "Name: VSA, dtype: float64\n",
      "Ethnicity    0.071846\n",
      "Impulsive    0.076371\n",
      "SS           0.118375\n",
      "Name: VSA, dtype: float64\n"
     ]
    }
   ],
   "source": [
    "#Which attributes have the \n",
    "sub_coormat=coormat.iloc[13:,1:13]\n",
    "for i in xrange(0,len(sub_coormat.iloc[:,0])):\n",
    "    footop=sub_coormat.iloc[i,:].sort_values().head(3)\n",
    "    foobot=sub_coormat.iloc[i,:].sort_values().tail(3)\n",
    "    print(footop)\n",
    "    print(foobot)"
   ]
  },
  {
   "cell_type": "code",
   "execution_count": null,
   "metadata": {
    "collapsed": true
   },
   "outputs": [],
   "source": [
    "\n",
    "\"\"\"data.Gender\n",
    "data.Education\n",
    "data.Country\n",
    "data.Ethnicity\n",
    "data.Nscore\n",
    "data.Escore\n",
    "data.Oscore\n",
    "data.Ascore\n",
    "data.Cscore\n",
    "data.Impulsive\n",
    "data.SS\"\"\""
   ]
  },
  {
   "cell_type": "code",
   "execution_count": 52,
   "metadata": {
    "collapsed": false
   },
   "outputs": [
    {
     "data": {
      "text/html": [
       "<div>\n",
       "<table border=\"1\" class=\"dataframe\">\n",
       "  <thead>\n",
       "    <tr style=\"text-align: right;\">\n",
       "      <th>Education</th>\n",
       "      <th>-2.43591</th>\n",
       "      <th>-1.7379</th>\n",
       "      <th>-1.43719</th>\n",
       "      <th>-1.22751</th>\n",
       "      <th>-0.61113</th>\n",
       "      <th>-0.05921</th>\n",
       "      <th>0.45468</th>\n",
       "      <th>1.16365</th>\n",
       "      <th>1.98437</th>\n",
       "    </tr>\n",
       "    <tr>\n",
       "      <th>Age</th>\n",
       "      <th></th>\n",
       "      <th></th>\n",
       "      <th></th>\n",
       "      <th></th>\n",
       "      <th></th>\n",
       "      <th></th>\n",
       "      <th></th>\n",
       "      <th></th>\n",
       "      <th></th>\n",
       "    </tr>\n",
       "  </thead>\n",
       "  <tbody>\n",
       "    <tr>\n",
       "      <th>-0.95197</th>\n",
       "      <td>9.0</td>\n",
       "      <td>16.0</td>\n",
       "      <td>12.0</td>\n",
       "      <td>61.0</td>\n",
       "      <td>331.0</td>\n",
       "      <td>43.0</td>\n",
       "      <td>126.0</td>\n",
       "      <td>43.0</td>\n",
       "      <td>2.0</td>\n",
       "    </tr>\n",
       "    <tr>\n",
       "      <th>-0.07854</th>\n",
       "      <td>3.0</td>\n",
       "      <td>15.0</td>\n",
       "      <td>6.0</td>\n",
       "      <td>17.0</td>\n",
       "      <td>85.0</td>\n",
       "      <td>52.0</td>\n",
       "      <td>150.0</td>\n",
       "      <td>115.0</td>\n",
       "      <td>38.0</td>\n",
       "    </tr>\n",
       "    <tr>\n",
       "      <th>0.49788</th>\n",
       "      <td>3.0</td>\n",
       "      <td>27.0</td>\n",
       "      <td>6.0</td>\n",
       "      <td>8.0</td>\n",
       "      <td>48.0</td>\n",
       "      <td>90.0</td>\n",
       "      <td>97.0</td>\n",
       "      <td>54.0</td>\n",
       "      <td>23.0</td>\n",
       "    </tr>\n",
       "    <tr>\n",
       "      <th>1.09449</th>\n",
       "      <td>6.0</td>\n",
       "      <td>32.0</td>\n",
       "      <td>4.0</td>\n",
       "      <td>9.0</td>\n",
       "      <td>28.0</td>\n",
       "      <td>65.0</td>\n",
       "      <td>78.0</td>\n",
       "      <td>53.0</td>\n",
       "      <td>19.0</td>\n",
       "    </tr>\n",
       "    <tr>\n",
       "      <th>1.82213</th>\n",
       "      <td>4.0</td>\n",
       "      <td>5.0</td>\n",
       "      <td>2.0</td>\n",
       "      <td>4.0</td>\n",
       "      <td>12.0</td>\n",
       "      <td>17.0</td>\n",
       "      <td>28.0</td>\n",
       "      <td>16.0</td>\n",
       "      <td>5.0</td>\n",
       "    </tr>\n",
       "    <tr>\n",
       "      <th>2.59171</th>\n",
       "      <td>3.0</td>\n",
       "      <td>4.0</td>\n",
       "      <td>NaN</td>\n",
       "      <td>1.0</td>\n",
       "      <td>2.0</td>\n",
       "      <td>3.0</td>\n",
       "      <td>1.0</td>\n",
       "      <td>2.0</td>\n",
       "      <td>2.0</td>\n",
       "    </tr>\n",
       "  </tbody>\n",
       "</table>\n",
       "</div>"
      ],
      "text/plain": [
       "Education  -2.43591  -1.73790  -1.43719  -1.22751  -0.61113  -0.05921  \\\n",
       "Age                                                                     \n",
       "-0.95197        9.0      16.0      12.0      61.0     331.0      43.0   \n",
       "-0.07854        3.0      15.0       6.0      17.0      85.0      52.0   \n",
       " 0.49788        3.0      27.0       6.0       8.0      48.0      90.0   \n",
       " 1.09449        6.0      32.0       4.0       9.0      28.0      65.0   \n",
       " 1.82213        4.0       5.0       2.0       4.0      12.0      17.0   \n",
       " 2.59171        3.0       4.0       NaN       1.0       2.0       3.0   \n",
       "\n",
       "Education   0.45468   1.16365   1.98437  \n",
       "Age                                      \n",
       "-0.95197      126.0      43.0       2.0  \n",
       "-0.07854      150.0     115.0      38.0  \n",
       " 0.49788       97.0      54.0      23.0  \n",
       " 1.09449       78.0      53.0      19.0  \n",
       " 1.82213       28.0      16.0       5.0  \n",
       " 2.59171        1.0       2.0       2.0  "
      ]
     },
     "execution_count": 52,
     "metadata": {},
     "output_type": "execute_result"
    }
   ],
   "source": [
    "c.unstack()"
   ]
  },
  {
   "cell_type": "code",
   "execution_count": null,
   "metadata": {
    "collapsed": true
   },
   "outputs": [],
   "source": []
  },
  {
   "cell_type": "code",
   "execution_count": null,
   "metadata": {
    "collapsed": true
   },
   "outputs": [],
   "source": []
  },
  {
   "cell_type": "code",
   "execution_count": null,
   "metadata": {
    "collapsed": true
   },
   "outputs": [],
   "source": []
  },
  {
   "cell_type": "code",
   "execution_count": null,
   "metadata": {
    "collapsed": true
   },
   "outputs": [],
   "source": []
  },
  {
   "cell_type": "code",
   "execution_count": null,
   "metadata": {
    "collapsed": true
   },
   "outputs": [],
   "source": []
  },
  {
   "cell_type": "code",
   "execution_count": null,
   "metadata": {
    "collapsed": true
   },
   "outputs": [],
   "source": []
  },
  {
   "cell_type": "code",
   "execution_count": null,
   "metadata": {
    "collapsed": false
   },
   "outputs": [],
   "source": []
  }
 ],
 "metadata": {
  "kernelspec": {
   "display_name": "Python 2",
   "language": "python",
   "name": "python2"
  },
  "language_info": {
   "codemirror_mode": {
    "name": "ipython",
    "version": 2
   },
   "file_extension": ".py",
   "mimetype": "text/x-python",
   "name": "python",
   "nbconvert_exporter": "python",
   "pygments_lexer": "ipython2",
   "version": "2.7.13"
  }
 },
 "nbformat": 4,
 "nbformat_minor": 2
}
