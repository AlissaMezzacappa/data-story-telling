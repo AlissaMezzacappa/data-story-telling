{
 "cells": [
  {
   "cell_type": "code",
   "execution_count": 2,
   "metadata": {
    "collapsed": false
   },
   "outputs": [
    {
     "name": "stdout",
     "output_type": "stream",
     "text": [
      "Data Story: Evaluation of Drug Consumption Risk\n"
     ]
    }
   ],
   "source": [
    "print('Data Story: Evaluation of Drug Consumption Risk')\n",
    "import pandas as pd\n",
    "import urllib\n",
    "u=urllib.urlopen('http://archive.ics.uci.edu/ml/datasets/Drug+consumption+%28quantified%29')\n",
    "text=u.read()\n",
    "import re\n",
    "matches=re.findall(r\"\\d+\\.\\s\\w+\", text)\n",
    "del(matches[0:3])\n",
    "del(matches[12])\n",
    "for i in range(0, len(matches)):\n",
    "    matches[i]=re.sub(r\"\\d+\\.\\s\",\"\",matches[i])\n",
    "url = \"http://archive.ics.uci.edu/ml/machine-learning-databases/00373/drug_consumption.data\"\n",
    "data = pd.read_csv(url,names=matches) #import data"
   ]
  },
  {
   "cell_type": "code",
   "execution_count": 3,
   "metadata": {
    "collapsed": false
   },
   "outputs": [],
   "source": [
    "#Create Binary variable seperating use by those who use at a month frequecy or more\n",
    "data=data.replace(['CL0','CL1','CL2','CL3'],0)\n",
    "data=data.replace(['CL4','CL5','CL6'],1)\n",
    "#coorelate attributes with drug use\n",
    "coormat=data.corr()\n",
    "#make scatterplot matrix\n",
    "#for each drug find the top 3 correlated attributes make scatterplots"
   ]
  },
  {
   "cell_type": "code",
   "execution_count": 55,
   "metadata": {
    "collapsed": false
   },
   "outputs": [
    {
     "name": "stdout",
     "output_type": "stream",
     "text": [
      "Characteristics of Population Surveyed\n",
      "Can I count something interesting?\n",
      "Data is more representative of young adults than older adults\n",
      "How does age trend with education?\n"
     ]
    },
    {
     "ename": "AttributeError",
     "evalue": "'DataFrame' object has no attribute 'value_count'",
     "output_type": "error",
     "traceback": [
      "\u001b[0;31m---------------------------------------------------------------------------\u001b[0m",
      "\u001b[0;31mAttributeError\u001b[0m                            Traceback (most recent call last)",
      "\u001b[0;32m<ipython-input-55-0e823f965fa2>\u001b[0m in \u001b[0;36m<module>\u001b[0;34m()\u001b[0m\n\u001b[1;32m     14\u001b[0m \u001b[1;32mprint\u001b[0m\u001b[1;33m(\u001b[0m\u001b[1;34m'How does age trend with education?'\u001b[0m\u001b[1;33m)\u001b[0m\u001b[1;33m\u001b[0m\u001b[0m\n\u001b[1;32m     15\u001b[0m \u001b[1;31m#c=data[['Age','Education']].groupby(['Age','Education']).size()\u001b[0m\u001b[1;33m\u001b[0m\u001b[1;33m\u001b[0m\u001b[0m\n\u001b[0;32m---> 16\u001b[0;31m \u001b[0mc\u001b[0m\u001b[1;33m=\u001b[0m\u001b[0mdata\u001b[0m\u001b[1;33m[\u001b[0m\u001b[1;33m[\u001b[0m\u001b[1;34m'Age'\u001b[0m\u001b[1;33m,\u001b[0m\u001b[1;34m'Education'\u001b[0m\u001b[1;33m]\u001b[0m\u001b[1;33m]\u001b[0m\u001b[1;33m.\u001b[0m\u001b[0mvalue_count\u001b[0m\u001b[1;33m(\u001b[0m\u001b[1;33m)\u001b[0m\u001b[1;33m\u001b[0m\u001b[0m\n\u001b[0m\u001b[1;32m     17\u001b[0m \u001b[1;32mprint\u001b[0m\u001b[1;33m(\u001b[0m\u001b[0mc\u001b[0m\u001b[1;33m)\u001b[0m\u001b[1;33m\u001b[0m\u001b[0m\n\u001b[1;32m     18\u001b[0m \u001b[0mfig\u001b[0m\u001b[1;33m=\u001b[0m\u001b[0mpy\u001b[0m\u001b[1;33m.\u001b[0m\u001b[0mfigure\u001b[0m\u001b[1;33m(\u001b[0m\u001b[1;36m2\u001b[0m\u001b[1;33m)\u001b[0m\u001b[1;33m\u001b[0m\u001b[0m\n",
      "\u001b[0;32mC:\\ProgramData\\Anaconda2\\lib\\site-packages\\pandas\\core\\generic.py\u001b[0m in \u001b[0;36m__getattr__\u001b[0;34m(self, name)\u001b[0m\n\u001b[1;32m   2742\u001b[0m             \u001b[1;32mif\u001b[0m \u001b[0mname\u001b[0m \u001b[1;32min\u001b[0m \u001b[0mself\u001b[0m\u001b[1;33m.\u001b[0m\u001b[0m_info_axis\u001b[0m\u001b[1;33m:\u001b[0m\u001b[1;33m\u001b[0m\u001b[0m\n\u001b[1;32m   2743\u001b[0m                 \u001b[1;32mreturn\u001b[0m \u001b[0mself\u001b[0m\u001b[1;33m[\u001b[0m\u001b[0mname\u001b[0m\u001b[1;33m]\u001b[0m\u001b[1;33m\u001b[0m\u001b[0m\n\u001b[0;32m-> 2744\u001b[0;31m             \u001b[1;32mreturn\u001b[0m \u001b[0mobject\u001b[0m\u001b[1;33m.\u001b[0m\u001b[0m__getattribute__\u001b[0m\u001b[1;33m(\u001b[0m\u001b[0mself\u001b[0m\u001b[1;33m,\u001b[0m \u001b[0mname\u001b[0m\u001b[1;33m)\u001b[0m\u001b[1;33m\u001b[0m\u001b[0m\n\u001b[0m\u001b[1;32m   2745\u001b[0m \u001b[1;33m\u001b[0m\u001b[0m\n\u001b[1;32m   2746\u001b[0m     \u001b[1;32mdef\u001b[0m \u001b[0m__setattr__\u001b[0m\u001b[1;33m(\u001b[0m\u001b[0mself\u001b[0m\u001b[1;33m,\u001b[0m \u001b[0mname\u001b[0m\u001b[1;33m,\u001b[0m \u001b[0mvalue\u001b[0m\u001b[1;33m)\u001b[0m\u001b[1;33m:\u001b[0m\u001b[1;33m\u001b[0m\u001b[0m\n",
      "\u001b[0;31mAttributeError\u001b[0m: 'DataFrame' object has no attribute 'value_count'"
     ]
    },
    {
     "data": {
      "image/png": "[encoded data removed]",
      "text/plain": [
       "<matplotlib.figure.Figure at 0xafab6a0>"
      ]
     },
     "metadata": {},
     "output_type": "display_data"
    }
   ],
   "source": [
    "#Count something interesting\n",
    "print('Characteristics of Population Surveyed')\n",
    "print('Can I count something interesting?')\n",
    "import matplotlib.pyplot as py\n",
    "%matplotlib inline\n",
    "#Age\n",
    "age=['','18-24','25-34','35-44','45-54','55-64','65+']\n",
    "ax=py.subplot(111)\n",
    "py.hist(data.Age*.84+.17,bins=6,histtype='bar', align='mid',width=0.3)\n",
    "py.ylabel('Individuals')\n",
    "ax.set_xticklabels(age,rotation=45)\n",
    "py.title('Population Age Distribution')\n",
    "print('Data is more representative of young adults than older adults')\n",
    "print('How does age trend with education?')\n",
    "c=data[['Age','Education']].groupby(['Age','Education']).size()\n",
    "\n",
    "print(c)\n",
    "fig=py.figure(2)\n",
    "ax=fig.add_subplot(1,1,1)\n",
    "#ax.scatter(c.Age,c.Education)#,c.iloc[:,2]) #How do I make a bubble plot?"
   ]
  },
  {
   "cell_type": "code",
   "execution_count": 51,
   "metadata": {
    "collapsed": false
   },
   "outputs": [
    {
     "name": "stdout",
     "output_type": "stream",
     "text": [
      "What is the drug use in this population?\n"
     ]
    },
    {
     "data": {
      "text/plain": [
       "0     334\n",
       "1    1551\n",
       "Name: Alcohol, dtype: int64"
      ]
     },
     "execution_count": 51,
     "metadata": {},
     "output_type": "execute_result"
    },
    {
     "data": {
      "image/png": "[encoded data removed]",
      "text/plain": [
       "<matplotlib.figure.Figure at 0xb47fba8>"
      ]
     },
     "metadata": {},
     "output_type": "display_data"
    }
   ],
   "source": [
    "print('What is the drug use in this population?')\n",
    "import numpy as np\n",
    "drug_data=data.iloc[:,13:32]\n",
    "Alcohol=data.iloc[:,13].value_counts().sort_values()\n",
    "Amphet=data.iloc[:,14].value_counts().sort_values()\n",
    "L=[x+Amphet[]]\n",
    "Amyl=data.iloc[:,15].value_counts()\n",
    "#setting positions and width of bars\n",
    "pos=list(range(len(drug_data.iloc[1,:])))\n",
    "width=0.25\n",
    "#plotting the bars\n",
    "fig, ax=py.subplots(figsize=(10,5))\n",
    "\n"
   ]
  },
  {
   "cell_type": "code",
   "execution_count": null,
   "metadata": {
    "collapsed": true
   },
   "outputs": [],
   "source": [
    "\n",
    "usecount=[]\n",
    "for i in xrange(0,18):\n",
    "    usecount[:,i]=drug_data.iloc[:,1].value_counts()\n",
    "\n",
    "Amphet=data.iloc[:,14].value_counts()\n",
    "Amyl=data.iloc[:,15].value_counts()\n",
    "Benzos=data.iloc[:,16].value_counts()\n",
    "Caff=data.iloc[:,17].value_counts()\n",
    "Cannabis=data.iloc[:,18].value_counts()\n",
    "Choc=data.iloc[:,19].value_counts()\n",
    "Coke=data.iloc[:,20].value_counts()\n",
    "Crack=data.iloc[:,21].value_counts()\n",
    "Ecstasy=data.iloc[:,22].value_counts()\n",
    "Heroin=data.iloc[:,23].value_counts()\n",
    "Ketamine=data.iloc[:,24].value_counts()\n",
    "Legalh=data.iloc[:,25].value_counts()\n",
    "LSD=data.iloc[:,26].value_counts()\n",
    "Meth=data.iloc[:,27].value_counts()\n",
    "Mushrooms=data.iloc[:,28].value_counts()\n",
    "Nicotine=data.iloc[:,29].value_counts()\n",
    "Semer=data.iloc[:,30].value_counts()\n",
    "VSA=data.iloc[:,31].value_counts()\n"
   ]
  },
  {
   "cell_type": "code",
   "execution_count": 71,
   "metadata": {
    "collapsed": false
   },
   "outputs": [
    {
     "name": "stdout",
     "output_type": "stream",
     "text": [
      "Which attributes are the most coorelated to drug use?\n",
      "Escore       0.134599\n",
      "Education    0.127310\n",
      "Country      0.078652\n",
      "Name: Alcohol, dtype: float64\n",
      "Country      0.297362\n",
      "Impulsive    0.210708\n",
      "SS           0.206502\n",
      "Name: Amphet, dtype: float64\n",
      "SS        0.111118\n",
      "Gender    0.083569\n",
      "Age       0.075914\n",
      "Name: Amyl, dtype: float64\n",
      "Country    0.299118\n",
      "Nscore     0.223672\n",
      "SS         0.188252\n",
      "Name: Benzos, dtype: float64\n",
      "Impulsive    0.078646\n",
      "SS           0.077285\n",
      "Escore       0.061392\n",
      "Name: Caff, dtype: float64\n",
      "Country    0.514411\n",
      "Age        0.410244\n",
      "SS         0.402344\n",
      "Name: Cannabis, dtype: float64\n",
      "Country    0.066275\n",
      "Gender     0.040304\n",
      "Oscore     0.023045\n",
      "Name: Choc, dtype: float64\n",
      "SS         0.203076\n",
      "Age        0.172080\n",
      "Country    0.139727\n",
      "Name: Coke, dtype: float64\n",
      "Gender    0.082790\n",
      "Nscore    0.078141\n",
      "SS        0.069754\n",
      "Name: Crack, dtype: float64\n",
      "Age        0.252397\n",
      "SS         0.210404\n",
      "Country    0.195327\n",
      "Name: Ecstasy, dtype: float64\n",
      "Country    0.165622\n",
      "Ascore     0.127813\n",
      "SS         0.127308\n",
      "Name: Heroin, dtype: float64\n",
      "Age       0.154227\n",
      "Gender    0.108434\n",
      "Oscore    0.102641\n",
      "Name: Ketamine, dtype: float64\n",
      "Country    0.262141\n",
      "Age        0.230990\n",
      "SS         0.228799\n",
      "Name: Legalh, dtype: float64\n",
      "Country    0.291682\n",
      "Age        0.253510\n",
      "Oscore     0.231119\n",
      "Name: LSD, dtype: float64\n",
      "Country    0.291274\n",
      "SS         0.152995\n",
      "Nscore     0.140366\n",
      "Name: Meth, dtype: float64\n",
      "Country    0.286114\n",
      "Age        0.212850\n",
      "Oscore     0.210594\n",
      "Name: Mushrooms, dtype: float64\n",
      "SS         0.265344\n",
      "Age        0.234236\n",
      "Country    0.233448\n",
      "Name: Nicotine, dtype: float64\n",
      "Ethnicity    0.058779\n",
      "Ascore       0.047131\n",
      "Cscore       0.041864\n",
      "Name: Semer, dtype: float64\n",
      "SS         0.118375\n",
      "Age        0.110004\n",
      "Country    0.094687\n",
      "Name: VSA, dtype: float64\n"
     ]
    }
   ],
   "source": [
    "print('Which attributes are the most coorelated to drug use?')\n",
    "sub_coormat=coormat.iloc[13:,1:13]\n",
    "for i in xrange(0,len(sub_coormat.iloc[:,0])):\n",
    "    footop=sub_coormat.iloc[i,:].sort_values().head(3)\n",
    "    foobot=sub_coormat.iloc[i,:].sort_values().tail(3)\n",
    "    mostcoor=abs(footop).append(abs(foobot)).sort_values(ascending=False).head(3)\n",
    "    #make scatter plots\n"
   ]
  },
  {
   "cell_type": "code",
   "execution_count": null,
   "metadata": {
    "collapsed": true
   },
   "outputs": [],
   "source": []
  },
  {
   "cell_type": "code",
   "execution_count": null,
   "metadata": {
    "collapsed": true
   },
   "outputs": [],
   "source": []
  },
  {
   "cell_type": "code",
   "execution_count": null,
   "metadata": {
    "collapsed": true
   },
   "outputs": [],
   "source": [
    "\n",
    "\"\"\"data.Gender\n",
    "data.Education\n",
    "data.Country\n",
    "data.Ethnicity\n",
    "data.Nscore\n",
    "data.Escore\n",
    "data.Oscore\n",
    "data.Ascore\n",
    "data.Cscore\n",
    "data.Impulsive\n",
    "data.SS\"\"\""
   ]
  },
  {
   "cell_type": "code",
   "execution_count": 53,
   "metadata": {
    "collapsed": false
   },
   "outputs": [
    {
     "data": {
      "text/html": [
       "<div>\n",
       "<table border=\"1\" class=\"dataframe\">\n",
       "  <thead>\n",
       "    <tr style=\"text-align: right;\">\n",
       "      <th>Age</th>\n",
       "      <th>-0.95197</th>\n",
       "      <th>-0.07854</th>\n",
       "      <th>0.49788</th>\n",
       "      <th>1.09449</th>\n",
       "      <th>1.82213</th>\n",
       "      <th>2.59171</th>\n",
       "    </tr>\n",
       "    <tr>\n",
       "      <th>Education</th>\n",
       "      <th></th>\n",
       "      <th></th>\n",
       "      <th></th>\n",
       "      <th></th>\n",
       "      <th></th>\n",
       "      <th></th>\n",
       "    </tr>\n",
       "  </thead>\n",
       "  <tbody>\n",
       "    <tr>\n",
       "      <th>-2.43591</th>\n",
       "      <td>9.0</td>\n",
       "      <td>3.0</td>\n",
       "      <td>3.0</td>\n",
       "      <td>6.0</td>\n",
       "      <td>4.0</td>\n",
       "      <td>3.0</td>\n",
       "    </tr>\n",
       "    <tr>\n",
       "      <th>-1.73790</th>\n",
       "      <td>16.0</td>\n",
       "      <td>15.0</td>\n",
       "      <td>27.0</td>\n",
       "      <td>32.0</td>\n",
       "      <td>5.0</td>\n",
       "      <td>4.0</td>\n",
       "    </tr>\n",
       "    <tr>\n",
       "      <th>-1.43719</th>\n",
       "      <td>12.0</td>\n",
       "      <td>6.0</td>\n",
       "      <td>6.0</td>\n",
       "      <td>4.0</td>\n",
       "      <td>2.0</td>\n",
       "      <td>NaN</td>\n",
       "    </tr>\n",
       "    <tr>\n",
       "      <th>-1.22751</th>\n",
       "      <td>61.0</td>\n",
       "      <td>17.0</td>\n",
       "      <td>8.0</td>\n",
       "      <td>9.0</td>\n",
       "      <td>4.0</td>\n",
       "      <td>1.0</td>\n",
       "    </tr>\n",
       "    <tr>\n",
       "      <th>-0.61113</th>\n",
       "      <td>331.0</td>\n",
       "      <td>85.0</td>\n",
       "      <td>48.0</td>\n",
       "      <td>28.0</td>\n",
       "      <td>12.0</td>\n",
       "      <td>2.0</td>\n",
       "    </tr>\n",
       "    <tr>\n",
       "      <th>-0.05921</th>\n",
       "      <td>43.0</td>\n",
       "      <td>52.0</td>\n",
       "      <td>90.0</td>\n",
       "      <td>65.0</td>\n",
       "      <td>17.0</td>\n",
       "      <td>3.0</td>\n",
       "    </tr>\n",
       "    <tr>\n",
       "      <th>0.45468</th>\n",
       "      <td>126.0</td>\n",
       "      <td>150.0</td>\n",
       "      <td>97.0</td>\n",
       "      <td>78.0</td>\n",
       "      <td>28.0</td>\n",
       "      <td>1.0</td>\n",
       "    </tr>\n",
       "    <tr>\n",
       "      <th>1.16365</th>\n",
       "      <td>43.0</td>\n",
       "      <td>115.0</td>\n",
       "      <td>54.0</td>\n",
       "      <td>53.0</td>\n",
       "      <td>16.0</td>\n",
       "      <td>2.0</td>\n",
       "    </tr>\n",
       "    <tr>\n",
       "      <th>1.98437</th>\n",
       "      <td>2.0</td>\n",
       "      <td>38.0</td>\n",
       "      <td>23.0</td>\n",
       "      <td>19.0</td>\n",
       "      <td>5.0</td>\n",
       "      <td>2.0</td>\n",
       "    </tr>\n",
       "  </tbody>\n",
       "</table>\n",
       "</div>"
      ],
      "text/plain": [
       "Age        -0.95197  -0.07854   0.49788   1.09449   1.82213   2.59171\n",
       "Education                                                            \n",
       "-2.43591        9.0       3.0       3.0       6.0       4.0       3.0\n",
       "-1.73790       16.0      15.0      27.0      32.0       5.0       4.0\n",
       "-1.43719       12.0       6.0       6.0       4.0       2.0       NaN\n",
       "-1.22751       61.0      17.0       8.0       9.0       4.0       1.0\n",
       "-0.61113      331.0      85.0      48.0      28.0      12.0       2.0\n",
       "-0.05921       43.0      52.0      90.0      65.0      17.0       3.0\n",
       " 0.45468      126.0     150.0      97.0      78.0      28.0       1.0\n",
       " 1.16365       43.0     115.0      54.0      53.0      16.0       2.0\n",
       " 1.98437        2.0      38.0      23.0      19.0       5.0       2.0"
      ]
     },
     "execution_count": 53,
     "metadata": {},
     "output_type": "execute_result"
    }
   ],
   "source": [
    "c.unstack('Age')"
   ]
  },
  {
   "cell_type": "code",
   "execution_count": null,
   "metadata": {
    "collapsed": true
   },
   "outputs": [],
   "source": []
  },
  {
   "cell_type": "code",
   "execution_count": null,
   "metadata": {
    "collapsed": true
   },
   "outputs": [],
   "source": []
  },
  {
   "cell_type": "code",
   "execution_count": null,
   "metadata": {
    "collapsed": true
   },
   "outputs": [],
   "source": []
  },
  {
   "cell_type": "code",
   "execution_count": null,
   "metadata": {
    "collapsed": true
   },
   "outputs": [],
   "source": []
  },
  {
   "cell_type": "code",
   "execution_count": null,
   "metadata": {
    "collapsed": true
   },
   "outputs": [],
   "source": []
  },
  {
   "cell_type": "code",
   "execution_count": null,
   "metadata": {
    "collapsed": true
   },
   "outputs": [],
   "source": []
  },
  {
   "cell_type": "code",
   "execution_count": null,
   "metadata": {
    "collapsed": false
   },
   "outputs": [],
   "source": []
  }
 ],
 "metadata": {
  "kernelspec": {
   "display_name": "Python 2",
   "language": "python",
   "name": "python2"
  },
  "language_info": {
   "codemirror_mode": {
    "name": "ipython",
    "version": 2
   },
   "file_extension": ".py",
   "mimetype": "text/x-python",
   "name": "python",
   "nbconvert_exporter": "python",
   "pygments_lexer": "ipython2",
   "version": "2.7.13"
  }
 },
 "nbformat": 4,
 "nbformat_minor": 2
}
